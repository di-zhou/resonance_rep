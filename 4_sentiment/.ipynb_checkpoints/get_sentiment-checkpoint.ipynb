{
 "cells": [
  {
   "cell_type": "markdown",
   "metadata": {},
   "source": [
    "# Get sentiment score for each post\n",
    "\n",
    "* **Input**:\n",
    "* **Output**:\n",
    "* **Package**: https://github.com/bung87/bixin"
   ]
  },
  {
   "cell_type": "code",
   "execution_count": 3,
   "metadata": {},
   "outputs": [],
   "source": [
    "import pandas as pd\n",
    "import csv\n",
    "from bixin import predict"
   ]
  },
  {
   "cell_type": "code",
   "execution_count": 4,
   "metadata": {},
   "outputs": [],
   "source": [
    "def get_answer_list(file_path):\n",
    "    df = pd.read_csv(file_path, header=0, low_memory=False) \n",
    "    df = df[df['answer_content'].notnull()] #drop NaN\n",
    "    answer_list = df['answer_content'].values.tolist()\n",
    "    return answer_list"
   ]
  },
  {
   "cell_type": "code",
   "execution_count": 5,
   "metadata": {},
   "outputs": [],
   "source": [
    "def get_answerID_list(file_path):\n",
    "    df = pd.read_csv(file_path, header=0, low_memory=False) \n",
    "    df = df[df['answer_content'].notnull()] #drop NaN\n",
    "    answerID_list = df['answer_id'].values.tolist()\n",
    "    return answerID_list"
   ]
  },
  {
   "cell_type": "code",
   "execution_count": 6,
   "metadata": {},
   "outputs": [],
   "source": [
    "def get_sentiment_list(answer_list):\n",
    "    score_list = []\n",
    "    for answer in answer_list:\n",
    "        score = predict(answer)\n",
    "        score_list.append(score)\n",
    "    return score_list"
   ]
  },
  {
   "cell_type": "code",
   "execution_count": 7,
   "metadata": {},
   "outputs": [],
   "source": [
    "answer_list = get_answer_list('data/all_answer_text_only.csv')\n",
    "answerID_list = get_answerID_list('data/all_answer_text_only.csv')"
   ]
  },
  {
   "cell_type": "code",
   "execution_count": null,
   "metadata": {},
   "outputs": [],
   "source": [
    "score_list = get_sentiment_list(answer_list)"
   ]
  },
  {
   "cell_type": "code",
   "execution_count": 12,
   "metadata": {},
   "outputs": [],
   "source": [
    "# Export as csv\n",
    "data_tuples = list(zip(answerID_list, score_list))\n",
    "sentiment_df = pd.DataFrame(data_tuples, columns=['answer_id','sentiment'])\n",
    "sentiment_df.to_csv('temp_data/sentiment_df.csv', index=True, sep=',')"
   ]
  }
 ],
 "metadata": {
  "kernelspec": {
   "display_name": "Python 3",
   "language": "python",
   "name": "python3"
  },
  "language_info": {
   "codemirror_mode": {
    "name": "ipython",
    "version": 3
   },
   "file_extension": ".py",
   "mimetype": "text/x-python",
   "name": "python",
   "nbconvert_exporter": "python",
   "pygments_lexer": "ipython3",
   "version": "3.7.3"
  }
 },
 "nbformat": 4,
 "nbformat_minor": 2
}
