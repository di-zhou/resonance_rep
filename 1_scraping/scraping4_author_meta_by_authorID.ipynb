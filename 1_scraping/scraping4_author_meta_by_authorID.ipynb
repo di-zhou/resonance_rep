{
 "cells": [
  {
   "cell_type": "markdown",
   "metadata": {},
   "source": [
    "# Get Additional Author Information by Author ID\n",
    "\n",
    "### About this script:\n",
    "* **Input**: A list of author ID\n",
    "* **Output**: A list of additional information by author ID: Total upvote received, total follower, total answer posted, total article posted, top-write and other forum achievements\n",
    "\n",
    "### General info:\n",
    "* **Forum**: https://www.zhihu.com/ (Sign-up required)\n",
    "* **References**: https://blog.csdn.net/wenxuhonghe/article/details/86515558; https://blog.csdn.net/wenxuhonghe/article/details/107122978 --I want to thank the code creator, 机灵鹤 (\"Smart Crane\"), for answering my questions about modifying his code for my own project!\n",
    "* **Author**: Di Zhou (NYU Sociology)\n",
    "* **Last Run**: Dec. 2020 \n",
    "* **Disclaimer**: The forum constantly updates its security and webpage information architecture. This scraping code and its reference may need modifications in order to scrape data from the forum when you access it."
   ]
  },
  {
   "cell_type": "code",
   "execution_count": null,
   "metadata": {},
   "outputs": [],
   "source": [
    "import pandas as pd\n",
    "import requests\n",
    "import json\n",
    "from bs4 import BeautifulSoup as bs\n",
    "import re"
   ]
  },
  {
   "cell_type": "code",
   "execution_count": null,
   "metadata": {},
   "outputs": [],
   "source": [
    "# Import csv, convert to list\n",
    "df = pd.read_csv('data/user_list.csv')  \n",
    "u_list = df.values.tolist()"
   ]
  },
  {
   "cell_type": "code",
   "execution_count": null,
   "metadata": {},
   "outputs": [],
   "source": [
    "len(u_list)"
   ]
  },
  {
   "cell_type": "code",
   "execution_count": null,
   "metadata": {},
   "outputs": [],
   "source": [
    "def get_achievement(user_token): \n",
    "    '''\n",
    "    Task：A function that with input user url token, return achievement info\n",
    "    Parameter：user url token\n",
    "    Return：a list of achievement info\n",
    "    '''\n",
    "    \n",
    "    headers = {\n",
    "        'accept': 'text/html,application/xhtml+xml,application/xml;q=0.9,image/webp,image/apng,*/*;q=0.8',\n",
    "        'user-agent': 'Mozilla/5.0 (Macintosh; Intel Mac OS X 10_14_4) AppleWebKit/537.36 (KHTML, like Gecko) Chrome/83.0.4103.116 Safari/537.36',\n",
    "    }\n",
    "    \n",
    "    url = 'https://www.zhihu.com/people/' + str(user_token) \n",
    " \n",
    "    try:\n",
    "        r = requests.get(url, headers=headers)\n",
    "        r.raise_for_status()\n",
    "        bsobj = bs(r.text, 'lxml')\n",
    "        voteupCount = bsobj.find_all('meta', attrs={'itemprop':'zhihu:voteupCount'})[0]['content'] # Total upvote\n",
    "        thankedCount = bsobj.find_all('meta', attrs={'itemprop':'zhihu:thankedCount'})[0]['content'] # Total thanked\n",
    "        followerCount = bsobj.find_all('meta', attrs={'itemprop':'zhihu:followerCount'})[0]['content'] # Total follower\n",
    "        answerCount = bsobj.find_all('meta', attrs={'itemprop':'zhihu:answerCount'})[0]['content'] # Total answers posted\n",
    "        articlesCount = bsobj.find_all('meta', attrs={'itemprop':'zhihu:articlesCount'})[0]['content'] # Total articles posted\n",
    "        achievement_raw = bsobj.find_all('div', attrs={'class':'css-vurnku'}) # Top-writer and other achievements soup object\n",
    "        achievement = re.sub(r\"\\<.*?\\>|\\.css.*?\\;\\}\", '', str(achievement_raw)) # get achievement info from raw\n",
    "        \n",
    "        return [user_token, voteupCount, thankedCount, followerCount, answerCount, articlesCount, achievement]\n",
    "    \n",
    "    except requests.HTTPError as e:\n",
    "        print(e)\n",
    "        print(\"HTTPError\")\n",
    "    except requests.RequestException as e:\n",
    "        print(e)\n",
    "    except:\n",
    "        print(\"Unknown Error !\")"
   ]
  },
  {
   "cell_type": "code",
   "execution_count": null,
   "metadata": {},
   "outputs": [],
   "source": [
    "def save_data(u_ach_list, filename):\n",
    "\n",
    "    filename = filename\n",
    "    dataframe = pd.DataFrame(u_ach_list)\n",
    "    dataframe.to_csv(filename, mode='a', index=False, sep=',', header=False)"
   ]
  },
  {
   "cell_type": "code",
   "execution_count": null,
   "metadata": {
    "scrolled": false
   },
   "outputs": [],
   "source": [
    "u_ach_list = []\n",
    "\n",
    "for i in range(len(u_list)):\n",
    "    user_token = u_list[i][7]\n",
    "    print('working on user ', i+1, ': ', u_list[i][5])\n",
    "    if get_achievement(user_token) == None: \n",
    "        pass\n",
    "    else:\n",
    "        u_ach_list.append(get_achievement(user_token))"
   ]
  },
  {
   "cell_type": "code",
   "execution_count": null,
   "metadata": {
    "scrolled": true
   },
   "outputs": [],
   "source": [
    "if None in u_ach_list:\n",
    "    for i in range(len(u_ach_list)):\n",
    "        if u_ach_list[i] is None:\n",
    "            print('element index', i, 'is NoneType, Deleting')\n",
    "            u_ach_list.pop(i)"
   ]
  },
  {
   "cell_type": "code",
   "execution_count": null,
   "metadata": {},
   "outputs": [],
   "source": [
    "save_data(u_ach_list, 'data/u_ach_list.csv')"
   ]
  }
 ],
 "metadata": {
  "kernelspec": {
   "display_name": "Python 3",
   "language": "python",
   "name": "python3"
  },
  "language_info": {
   "codemirror_mode": {
    "name": "ipython",
    "version": 3
   },
   "file_extension": ".py",
   "mimetype": "text/x-python",
   "name": "python",
   "nbconvert_exporter": "python",
   "pygments_lexer": "ipython3",
   "version": "3.7.3"
  }
 },
 "nbformat": 4,
 "nbformat_minor": 2
}
