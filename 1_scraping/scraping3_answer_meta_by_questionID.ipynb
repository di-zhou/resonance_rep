{
 "cells": [
  {
   "cell_type": "markdown",
   "metadata": {},
   "source": [
    "# Get answer posts and answer post meta-data by question ID\n",
    "\n",
    "### About this script:\n",
    "\n",
    "* **Input**: A list of question ID\n",
    "* **Output**: A list of answer posts and answer post meta-data by question ID: Answer post text, answer date, upvote count, comment count, answer ID, author name, author gender, author follower count, author bio, author username\n",
    "\n",
    "### General info:\n",
    "* **Forum**: https://www.zhihu.com/ (Sign-up required)\n",
    "* **References**: https://blog.csdn.net/wenxuhonghe/article/details/86515558; https://blog.csdn.net/wenxuhonghe/article/details/107122978 --I want to thank the code creator, 机灵鹤 (\"Smart Crane\"), for answering my questions about modifying his code for my own project!\n",
    "* **Author**: Di Zhou (NYU Sociology)\n",
    "* **Last Run**: Dec. 2020 \n",
    "* **Disclaimer**: The forum constantly updates its security and webpage information architecture. This scraping code and its reference may need modifications in order to scrape data from the forum when you access it."
   ]
  },
  {
   "cell_type": "code",
   "execution_count": null,
   "metadata": {},
   "outputs": [],
   "source": [
    "import pandas as pd\n",
    "import requests\n",
    "import json\n",
    "from datetime import datetime\n",
    "from bs4 import BeautifulSoup as bs\n",
    "import time"
   ]
  },
  {
   "cell_type": "code",
   "execution_count": null,
   "metadata": {},
   "outputs": [],
   "source": [
    "# Import csv, convert to list\n",
    "df = pd.read_csv('data/get_a_list.csv')  \n",
    "q_list = df.values.tolist()"
   ]
  },
  {
   "cell_type": "code",
   "execution_count": null,
   "metadata": {},
   "outputs": [],
   "source": [
    "def get_data(url):\n",
    "\n",
    "    headers = {\n",
    "        'accept': 'text/html,application/xhtml+xml,application/xml;q=0.9,image/webp,image/apng,*/*;q=0.8',\n",
    "        'user-agent': 'Mozilla/5.0 (Macintosh; Intel Mac OS X 10_14_4) AppleWebKit/537.36 (KHTML, like Gecko) Chrome/83.0.4103.116 Safari/537.36',\n",
    "        #'cookie': '_zap=863b81d4-0839-43bf-b501-7eafdab8619b; _xsrf=bb368175-49d2-456b-81bd-b6ea0e4b29b3; d_c0=\"AHAcCKrw_xCPTjS-RPIdgnNL4D2Vk6Pruh8=|1584833755\"; _ga=GA1.2.1506193728.1584833760; q_c1=c956189d6bc1401f9e330c82f043d3b1|1594734830000|1584971899000; __utmc=51854390; __utmv=51854390.100--|2=registration_date=20110621=1^3=entry_date=20110621=1; tshl=; tst=r; Hm_lvt_98beee57fd2ef70ccdd5ca52b9740c49=1594912792,1594912793,1594946598,1595012772; __utmz=51854390.1595941243.10.8.utmcsr=zhihu.com|utmccn=(referral)|utmcmd=referral|utmcct=/question/378861096; l_n_c=1; l_cap_id=\"MDQ1Zjc5NmM1NGM5NDhhZDk5YzY2OGRmYTY1M2M1OTM=|1595945669|8ce414da844dcaeac51212a643822e3f3ebc123a\"; r_cap_id=\"ZmVhODBiNDUzOWFlNGExMjgyMDFjMzQwY2E4Y2UwYzc=|1595945669|2a9260ff946ab9de5a8ce6b9dce89aa2a2b799fa\"; cap_id=\"ODg0ZjY1ZDc3YmQzNDI4NmFhZTdmZGQxYzg2ZDQ2Yjc=|1595945669|c806e64399c257578ccc27895b0d7f97324ff65c\"; n_c=1; capsion_ticket=\"2|1:0|10:1595945676|14:capsion_ticket|44:MTkxYTY1NTNkMDc4NDgyNThhYjY3Zjc2ZThkMzg1MmU=|06237b9fadbddb3a759d559081472b2a79e0144d3d12994f76826c850ad2bc70\"; z_c0=\"2|1:0|10:1595945679|4:z_c0|92:Mi4xa01zQUFBQUFBQUFBY0J3SXF2RF9FQ1lBQUFCZ0FsVk56NEFOWUFEdXVWaTJRZUNLMFBfNjRFWExFVHJfS2xJTF9R|9c1ed104322dbe9787932ca865b4f0cda2e5412583c20de9f2a08568eef4e15a\"; _gid=GA1.2.1689285240.1596489310; SESSIONID=xOJAqvjHYf9ch6Y9phwMytIqDKYMw7EYi2N4NrPXftt; JOID=Vl4VAk7txnPAcQA-Teh1pXsjn19Yl484hQF0UgS1okyiHTdlcom_XppyBDlIxhtMwSNDdcrbTyMSbWVgSXzst0k=; osd=Vl8cAkjtx3rAdwA_ROhzpXoqn1lYloY4gwF1WwSzok2rHTFlc4C_WJpzDTlOxhpFwSVDdMPbSSMTZGVmSX3lt08=; __utma=51854390.1506193728.1584833760.1595950496.1596489339.13; Hm_lpvt_98beee57fd2ef70ccdd5ca52b9740c49=1596492989; KLBRSID=e42bab774ac0012482937540873c03cf|1596499053|1596498383'\n",
    "    }\n",
    " \n",
    "    try:\n",
    "        r = requests.get(url, headers=headers)\n",
    "        r.raise_for_status()\n",
    "        return r.text\n",
    "    \n",
    "    except requests.HTTPError as e:\n",
    "        print(e)\n",
    "        print(\"HTTPError\")\n",
    "    except requests.RequestException as e:\n",
    "        print(e)\n",
    "    except:\n",
    "        print(\"Unknown Error !\")"
   ]
  },
  {
   "cell_type": "code",
   "execution_count": null,
   "metadata": {},
   "outputs": [],
   "source": [
    "def parse_data(html, q_id):\n",
    "\n",
    "    json_data = json.loads(html)['data']\n",
    "    one_q_all_answer = []\n",
    "    \n",
    "    try:\n",
    "        for item in json_data:\n",
    "            \n",
    "            one_answer_list = []\n",
    "            question_id = q_id # Question id\n",
    "            answer_content = bs(item['content'], 'html.parser').get_text()  # Answer post text\n",
    "            answer_date = datetime.fromtimestamp(item['created_time']).strftime(\"%Y-%m-%d\")  # Answer date\n",
    "            answer_upvote = item['voteup_count']    # upvote count\n",
    "            answer_comment = item['comment_count']  # comment count\n",
    "            answer_id = item['id']              # answer ID\n",
    "            author_name = item['author']['name']    # author name\n",
    "            author_gender = item['author']['gender'] # author gender\n",
    "            author_url_token = item['author']['url_token'] # author ID\n",
    "            author_follower_count = item['author']['follower_count']  # author follower count\n",
    "            author_headline = item['author']['headline'] # author bio\n",
    "            one_answer_list = [question_id, answer_content, answer_date, answer_upvote, answer_comment, answer_id, author_name, author_gender, author_url_token, author_follower_count, author_headline]\n",
    "            one_q_all_answer.append(one_answer_list)\n",
    "            \n",
    "        return one_q_all_answer\n",
    "    \n",
    "    except Exception as e:\n",
    "        print(answer_list)\n",
    "        print(e)"
   ]
  },
  {
   "cell_type": "code",
   "execution_count": null,
   "metadata": {},
   "outputs": [],
   "source": [
    "def save_data(answer_list):\n",
    "\n",
    "    filename = 'data/美国大选2016/answers_' + str(q_id) + '.csv' \n",
    "    \n",
    "    dataframe = pd.DataFrame(answer_list)\n",
    "    dataframe.to_csv(filename, mode='a', index=False, sep=',', header=False)\n"
   ]
  },
  {
   "cell_type": "code",
   "execution_count": null,
   "metadata": {},
   "outputs": [],
   "source": [
    "# A loop that run all questions\n",
    "def main():\n",
    "        \n",
    "    for i in range(len(q_list)):\n",
    "    \n",
    "        q_id = q_list[i][0]\n",
    "        print('working on question ', i+1, ': ', q_list[i][1])\n",
    "        \n",
    "        # get total answer count\n",
    "        url = 'https://www.zhihu.com/api/v4/questions/' + str(q_id) + '/answers?include=data%5B%2A%5D.is_normal%2Cadmin_closed_comment%2Creward_info%2Cis_collapsed%2Cannotation_action%2Cannotation_detail%2Ccollapse_reason%2Cis_sticky%2Ccollapsed_by%2Csuggest_edit%2Ccomment_count%2Ccan_comment%2Ccontent%2Ceditable_content%2Cvoteup_count%2Creshipment_settings%2Ccomment_permission%2Ccreated_time%2Cupdated_time%2Creview_info%2Crelevant_info%2Cquestion%2Cexcerpt%2Crelationship.is_authorized%2Cis_author%2Cvoting%2Cis_thanked%2Cis_nothelp%2Cis_labeled%3Bdata%5B%2A%5D.mark_infos%5B%2A%5D.url%3Bdata%5B%2A%5D.author.follower_count%2Cbadge%5B%2A%5D.topics&limit=5&offset=5&platform=desktop&sort_by=default'\n",
    "        html = get_data(url)\n",
    "        totals = json.loads(html)['paging']['totals']\n",
    "    \n",
    "        print(totals)\n",
    "        print('---'*10)\n",
    "    \n",
    "        page = 0\n",
    "    \n",
    "        while(page < totals):\n",
    "        \n",
    "            url = 'https://www.zhihu.com/api/v4/questions/' + str(q_id) + '/answers?include=data%5B%2A%5D.is_normal%2Cadmin_closed_comment%2Creward_info%2Cis_collapsed%2Cannotation_action%2Cannotation_detail%2Ccollapse_reason%2Cis_sticky%2Ccollapsed_by%2Csuggest_edit%2Ccomment_count%2Ccan_comment%2Ccontent%2Ceditable_content%2Cvoteup_count%2Creshipment_settings%2Ccomment_permission%2Ccreated_time%2Cupdated_time%2Creview_info%2Crelevant_info%2Cquestion%2Cexcerpt%2Crelationship.is_authorized%2Cis_author%2Cvoting%2Cis_thanked%2Cis_nothelp%2Cis_labeled%3Bdata%5B%2A%5D.mark_infos%5B%2A%5D.url%3Bdata%5B%2A%5D.author.follower_count%2Cbadge%5B%2A%5D.topics&limit=5&offset='+ str(page) +'&platform=desktop&sort_by=default'\n",
    "            html = get_data(url)\n",
    "            one_q_all_answer = parse_data(html, q_id)\n",
    "            save_data(one_q_all_answer)\n",
    "        \n",
    "            print(page)\n",
    "            page += 5\n",
    "            \n",
    "    \n",
    "\n",
    "if __name__ == '__main__':\n",
    "    main()\n",
    "    print(\"Finish！！\")\n",
    "        "
   ]
  }
 ],
 "metadata": {
  "kernelspec": {
   "display_name": "Python 3",
   "language": "python",
   "name": "python3"
  },
  "language_info": {
   "codemirror_mode": {
    "name": "ipython",
    "version": 3
   },
   "file_extension": ".py",
   "mimetype": "text/x-python",
   "name": "python",
   "nbconvert_exporter": "python",
   "pygments_lexer": "ipython3",
   "version": "3.7.3"
  }
 },
 "nbformat": 4,
 "nbformat_minor": 2
}
